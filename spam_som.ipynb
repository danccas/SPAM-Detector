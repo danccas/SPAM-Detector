{
  "nbformat": 4,
  "nbformat_minor": 0,
  "metadata": {
    "kernelspec": {
      "display_name": "Python 3",
      "language": "python",
      "name": "python3"
    },
    "language_info": {
      "codemirror_mode": {
        "name": "ipython",
        "version": 3
      },
      "file_extension": ".py",
      "mimetype": "text/x-python",
      "name": "python",
      "nbconvert_exporter": "python",
      "pygments_lexer": "ipython3",
      "version": "3.8.2"
    },
    "colab": {
      "name": "spam_som.ipynb",
      "provenance": [],
      "include_colab_link": true
    }
  },
  "cells": [
    {
      "cell_type": "markdown",
      "metadata": {
        "id": "view-in-github",
        "colab_type": "text"
      },
      "source": [
        "<a href=\"https://colab.research.google.com/github/danccas/SPAM-Detector/blob/master/spam_som.ipynb\" target=\"_parent\"><img src=\"https://colab.research.google.com/assets/colab-badge.svg\" alt=\"Open In Colab\"/></a>"
      ]
    },
    {
      "cell_type": "code",
      "metadata": {
        "id": "YVl_wyUr1xK5",
        "colab_type": "code",
        "colab": {
          "base_uri": "https://localhost:8080/",
          "height": 51
        },
        "outputId": "e1c4c8d1-0b43-4abe-a0e0-90d291732d89"
      },
      "source": [
        "import string\n",
        "import numpy as np\n",
        "import pandas as pd\n",
        "import matplotlib.pyplot as plt\n",
        "import seaborn as sns\n",
        "from sklearn.feature_extraction.text import TfidfVectorizer\n",
        "from nltk.corpus import stopwords\n",
        "from nltk import PorterStemmer as Stemmer\n",
        "%matplotlib inline"
      ],
      "execution_count": null,
      "outputs": [
        {
          "output_type": "stream",
          "text": [
            "/usr/local/lib/python3.6/dist-packages/statsmodels/tools/_testing.py:19: FutureWarning: pandas.util.testing is deprecated. Use the functions in the public API at pandas.testing instead.\n",
            "  import pandas.util.testing as tm\n"
          ],
          "name": "stderr"
        }
      ]
    },
    {
      "cell_type": "markdown",
      "metadata": {
        "id": "7M8vhRgQ23E7",
        "colab_type": "text"
      },
      "source": [
        "Vamos a instalar los stopwords en caso no existan; además de la librería minisom"
      ]
    },
    {
      "cell_type": "code",
      "metadata": {
        "id": "8wb4QAQs274r",
        "colab_type": "code",
        "colab": {
          "base_uri": "https://localhost:8080/",
          "height": 221
        },
        "outputId": "6304655e-a625-485a-8f95-a38f25cbd21a"
      },
      "source": [
        "!pip install minisom\n",
        "\n",
        "from minisom import MiniSom\n",
        "import nltk\n",
        "nltk.download('stopwords')\n"
      ],
      "execution_count": null,
      "outputs": [
        {
          "output_type": "stream",
          "text": [
            "Collecting minisom\n",
            "  Downloading https://files.pythonhosted.org/packages/9d/10/a1c1621000d5ca00c41695689551c1a4d6d245d7bbf099d81e067da3e8f2/MiniSom-2.2.6.tar.gz\n",
            "Building wheels for collected packages: minisom\n",
            "  Building wheel for minisom (setup.py) ... \u001b[?25l\u001b[?25hdone\n",
            "  Created wheel for minisom: filename=MiniSom-2.2.6-cp36-none-any.whl size=8525 sha256=e856e501fbcfbad7767d9beba7dcb5c49bf315a673c9619d423efcf39c9cf846\n",
            "  Stored in directory: /root/.cache/pip/wheels/b8/c6/01/330066e36e1f7c826c96f656f9185822cfcdef0591315949ea\n",
            "Successfully built minisom\n",
            "Installing collected packages: minisom\n",
            "Successfully installed minisom-2.2.6\n",
            "[nltk_data] Downloading package stopwords to /root/nltk_data...\n",
            "[nltk_data]   Unzipping corpora/stopwords.zip.\n"
          ],
          "name": "stdout"
        },
        {
          "output_type": "execute_result",
          "data": {
            "text/plain": [
              "True"
            ]
          },
          "metadata": {
            "tags": []
          },
          "execution_count": 2
        }
      ]
    },
    {
      "cell_type": "markdown",
      "metadata": {
        "id": "lwoAHg6R21nm",
        "colab_type": "text"
      },
      "source": [
        "Vamos a montar nuestro disco Drive, donde tenemos nuestro dataset de spam\n"
      ]
    },
    {
      "cell_type": "code",
      "metadata": {
        "id": "EmW5eIOq19_K",
        "colab_type": "code",
        "colab": {
          "base_uri": "https://localhost:8080/",
          "height": 122
        },
        "outputId": "48bcac73-40ce-43ca-c63a-df74ef328c25"
      },
      "source": [
        "from google.colab import drive\n",
        "drive.mount('/content/gdrive') "
      ],
      "execution_count": null,
      "outputs": [
        {
          "output_type": "stream",
          "text": [
            "Go to this URL in a browser: https://accounts.google.com/o/oauth2/auth?client_id=947318989803-6bn6qk8qdgf4n4g3pfee6491hc0brc4i.apps.googleusercontent.com&redirect_uri=urn%3aietf%3awg%3aoauth%3a2.0%3aoob&response_type=code&scope=email%20https%3a%2f%2fwww.googleapis.com%2fauth%2fdocs.test%20https%3a%2f%2fwww.googleapis.com%2fauth%2fdrive%20https%3a%2f%2fwww.googleapis.com%2fauth%2fdrive.photos.readonly%20https%3a%2f%2fwww.googleapis.com%2fauth%2fpeopleapi.readonly\n",
            "\n",
            "Enter your authorization code:\n",
            "··········\n",
            "Mounted at /content/gdrive\n"
          ],
          "name": "stdout"
        }
      ]
    },
    {
      "cell_type": "markdown",
      "metadata": {
        "id": "XXP-87xRI8EN",
        "colab_type": "text"
      },
      "source": [
        "Importamos el dataset asignando dos columnas:"
      ]
    },
    {
      "cell_type": "code",
      "metadata": {
        "id": "f-3QfhzU1xK9",
        "colab_type": "code",
        "colab": {
          "base_uri": "https://localhost:8080/",
          "height": 204
        },
        "outputId": "ae973b5f-e3cc-4364-8166-ede2e8187901"
      },
      "source": [
        "read_file  = pd.read_csv('gdrive/My Drive/Colab Notebooks/SOM/datasets_483_982_spam.csv', encoding='latin-1')[['v1', 'v2']]\n",
        "read_file.columns = ['label', 'message']\n",
        "read_file.head()"
      ],
      "execution_count": null,
      "outputs": [
        {
          "output_type": "execute_result",
          "data": {
            "text/html": [
              "<div>\n",
              "<style scoped>\n",
              "    .dataframe tbody tr th:only-of-type {\n",
              "        vertical-align: middle;\n",
              "    }\n",
              "\n",
              "    .dataframe tbody tr th {\n",
              "        vertical-align: top;\n",
              "    }\n",
              "\n",
              "    .dataframe thead th {\n",
              "        text-align: right;\n",
              "    }\n",
              "</style>\n",
              "<table border=\"1\" class=\"dataframe\">\n",
              "  <thead>\n",
              "    <tr style=\"text-align: right;\">\n",
              "      <th></th>\n",
              "      <th>label</th>\n",
              "      <th>message</th>\n",
              "    </tr>\n",
              "  </thead>\n",
              "  <tbody>\n",
              "    <tr>\n",
              "      <th>0</th>\n",
              "      <td>ham</td>\n",
              "      <td>Go until jurong point, crazy.. Available only ...</td>\n",
              "    </tr>\n",
              "    <tr>\n",
              "      <th>1</th>\n",
              "      <td>ham</td>\n",
              "      <td>Ok lar... Joking wif u oni...</td>\n",
              "    </tr>\n",
              "    <tr>\n",
              "      <th>2</th>\n",
              "      <td>spam</td>\n",
              "      <td>Free entry in 2 a wkly comp to win FA Cup fina...</td>\n",
              "    </tr>\n",
              "    <tr>\n",
              "      <th>3</th>\n",
              "      <td>ham</td>\n",
              "      <td>U dun say so early hor... U c already then say...</td>\n",
              "    </tr>\n",
              "    <tr>\n",
              "      <th>4</th>\n",
              "      <td>ham</td>\n",
              "      <td>Nah I don't think he goes to usf, he lives aro...</td>\n",
              "    </tr>\n",
              "  </tbody>\n",
              "</table>\n",
              "</div>"
            ],
            "text/plain": [
              "  label                                            message\n",
              "0   ham  Go until jurong point, crazy.. Available only ...\n",
              "1   ham                      Ok lar... Joking wif u oni...\n",
              "2  spam  Free entry in 2 a wkly comp to win FA Cup fina...\n",
              "3   ham  U dun say so early hor... U c already then say...\n",
              "4   ham  Nah I don't think he goes to usf, he lives aro..."
            ]
          },
          "metadata": {
            "tags": []
          },
          "execution_count": 4
        }
      ]
    },
    {
      "cell_type": "markdown",
      "metadata": {
        "id": "5_CM8hB2LwpT",
        "colab_type": "text"
      },
      "source": [
        "Devuelve una tupla que representa la dimensionalidad del DataFrame"
      ]
    },
    {
      "cell_type": "code",
      "metadata": {
        "id": "fEZ_rvm81xLB",
        "colab_type": "code",
        "colab": {
          "base_uri": "https://localhost:8080/",
          "height": 34
        },
        "outputId": "6bac019b-5507-4b56-a6c3-09ec596058a5"
      },
      "source": [
        "read_file.shape"
      ],
      "execution_count": null,
      "outputs": [
        {
          "output_type": "execute_result",
          "data": {
            "text/plain": [
              "(5572, 2)"
            ]
          },
          "metadata": {
            "tags": []
          },
          "execution_count": 5
        }
      ]
    },
    {
      "cell_type": "markdown",
      "metadata": {
        "id": "CtQlnCI0L17d",
        "colab_type": "text"
      },
      "source": [
        "Vamos a realizar un agrupamiento por la etiqueta"
      ]
    },
    {
      "cell_type": "code",
      "metadata": {
        "id": "Th8PlFTY1xLE",
        "colab_type": "code",
        "colab": {
          "base_uri": "https://localhost:8080/",
          "height": 173
        },
        "outputId": "ef403823-ecb2-4c12-c989-7bd66ee5a622"
      },
      "source": [
        "read_file.groupby('label').describe()"
      ],
      "execution_count": null,
      "outputs": [
        {
          "output_type": "execute_result",
          "data": {
            "text/html": [
              "<div>\n",
              "<style scoped>\n",
              "    .dataframe tbody tr th:only-of-type {\n",
              "        vertical-align: middle;\n",
              "    }\n",
              "\n",
              "    .dataframe tbody tr th {\n",
              "        vertical-align: top;\n",
              "    }\n",
              "\n",
              "    .dataframe thead tr th {\n",
              "        text-align: left;\n",
              "    }\n",
              "\n",
              "    .dataframe thead tr:last-of-type th {\n",
              "        text-align: right;\n",
              "    }\n",
              "</style>\n",
              "<table border=\"1\" class=\"dataframe\">\n",
              "  <thead>\n",
              "    <tr>\n",
              "      <th></th>\n",
              "      <th colspan=\"4\" halign=\"left\">message</th>\n",
              "    </tr>\n",
              "    <tr>\n",
              "      <th></th>\n",
              "      <th>count</th>\n",
              "      <th>unique</th>\n",
              "      <th>top</th>\n",
              "      <th>freq</th>\n",
              "    </tr>\n",
              "    <tr>\n",
              "      <th>label</th>\n",
              "      <th></th>\n",
              "      <th></th>\n",
              "      <th></th>\n",
              "      <th></th>\n",
              "    </tr>\n",
              "  </thead>\n",
              "  <tbody>\n",
              "    <tr>\n",
              "      <th>ham</th>\n",
              "      <td>4825</td>\n",
              "      <td>4516</td>\n",
              "      <td>Sorry, I'll call later</td>\n",
              "      <td>30</td>\n",
              "    </tr>\n",
              "    <tr>\n",
              "      <th>spam</th>\n",
              "      <td>747</td>\n",
              "      <td>653</td>\n",
              "      <td>Please call our customer service representativ...</td>\n",
              "      <td>4</td>\n",
              "    </tr>\n",
              "  </tbody>\n",
              "</table>\n",
              "</div>"
            ],
            "text/plain": [
              "      message                                                               \n",
              "        count unique                                                top freq\n",
              "label                                                                       \n",
              "ham      4825   4516                             Sorry, I'll call later   30\n",
              "spam      747    653  Please call our customer service representativ...    4"
            ]
          },
          "metadata": {
            "tags": []
          },
          "execution_count": 6
        }
      ]
    },
    {
      "cell_type": "markdown",
      "metadata": {
        "id": "1efqGpmFMDGZ",
        "colab_type": "text"
      },
      "source": [
        "Realziaremos una grafica del agrupamiento binario ham/spam"
      ]
    },
    {
      "cell_type": "code",
      "metadata": {
        "id": "5fHTJ2LJ1xLG",
        "colab_type": "code",
        "colab": {
          "base_uri": "https://localhost:8080/",
          "height": 297
        },
        "outputId": "7e425536-fe61-4d94-b0d3-cd0c74019cb5"
      },
      "source": [
        "sns.countplot(data=read_file, x='label')"
      ],
      "execution_count": null,
      "outputs": [
        {
          "output_type": "execute_result",
          "data": {
            "text/plain": [
              "<matplotlib.axes._subplots.AxesSubplot at 0x7f6677625048>"
            ]
          },
          "metadata": {
            "tags": []
          },
          "execution_count": 7
        },
        {
          "output_type": "display_data",
          "data": {
            "image/png": "[encoded data removed]",
            "text/plain": [
              "<Figure size 432x288 with 1 Axes>"
            ]
          },
          "metadata": {
            "tags": [],
            "needs_background": "light"
          }
        }
      ]
    },
    {
      "cell_type": "markdown",
      "metadata": {
        "id": "SueNhMX9MPLh",
        "colab_type": "text"
      },
      "source": [
        "Limpiar y normalizar texto, se realiza los siguientes pasos:\n",
        "\n",
        "1.   Eliminar signos de puntuación\n",
        "2.   Eliminar todas las palabras vacías\n",
        "3.   Aplicar derivación (conversión a forma normal de palabra). Por ejemplo, 'conduciendo automóvil' y 'conduces automóvil' se convierte en conducir automóvil"
      ]
    },
    {
      "cell_type": "code",
      "metadata": {
        "id": "bsMKwHQC1xLJ",
        "colab_type": "code",
        "colab": {
          "base_uri": "https://localhost:8080/",
          "height": 34
        },
        "outputId": "34ec8520-168b-44f0-dd6c-fea155f42907"
      },
      "source": [
        "def text_processing(text_):\n",
        "    text_ = text_.lower()\n",
        "    text_ = ''.join([i for i in text_ if i not in string.punctuation])\n",
        "    text_ = [i for i in text_.split() if i not in stopwords.words('english')]\n",
        "    string_ = Stemmer()\n",
        "    text_ = [string_.stem(i) for i in text_]\n",
        "    return text_\n",
        "\n",
        "text_processing('hello how are you fine//?')"
      ],
      "execution_count": null,
      "outputs": [
        {
          "output_type": "execute_result",
          "data": {
            "text/plain": [
              "['hello', 'fine']"
            ]
          },
          "metadata": {
            "tags": []
          },
          "execution_count": 8
        }
      ]
    },
    {
      "cell_type": "markdown",
      "metadata": {
        "id": "xtAJAIwX70AT",
        "colab_type": "text"
      },
      "source": [
        "Utilizaremos TfidfVectorizer. Convertirá la colección de documentos de texto (corpus de SMS) en una matriz 2D. Una dimensión representa documentos y otra dimensión repite cada palabra única en el corpus de SMS..."
      ]
    },
    {
      "cell_type": "code",
      "metadata": {
        "id": "JddAfvWv1xLN",
        "colab_type": "code",
        "colab": {}
      },
      "source": [
        "tfidfv = TfidfVectorizer(analyzer=text_processing)  # Tfid\n",
        "data_processing = tfidfv.fit_transform(read_file['message'])\n",
        "type(data_processing)\n",
        "data_processing = data_processing.toarray()  # convertirmos la matriz a un array para el modelo"
      ],
      "execution_count": null,
      "outputs": []
    },
    {
      "cell_type": "code",
      "metadata": {
        "id": "DvJPnUmi1xLQ",
        "colab_type": "code",
        "colab": {
          "base_uri": "https://localhost:8080/",
          "height": 34
        },
        "outputId": "5685ede0-8a84-4034-a4ff-cf5dab528a5a"
      },
      "source": [
        "data_processing.shape # comprobar la forma de la matriz"
      ],
      "execution_count": null,
      "outputs": [
        {
          "output_type": "execute_result",
          "data": {
            "text/plain": [
              "(5572, 8097)"
            ]
          },
          "metadata": {
            "tags": []
          },
          "execution_count": 10
        }
      ]
    },
    {
      "cell_type": "code",
      "metadata": {
        "id": "zoxazEf-1xLS",
        "colab_type": "code",
        "colab": {}
      },
      "source": [
        "labels =  read_file['label'] # almacena etiquetas en otra variable para que podamos usarlo para la comparación"
      ],
      "execution_count": null,
      "outputs": []
    },
    {
      "cell_type": "code",
      "metadata": {
        "id": "1pE2W4n61xLU",
        "colab_type": "code",
        "colab": {
          "base_uri": "https://localhost:8080/",
          "height": 51
        },
        "outputId": "70d0e4ff-65f3-4362-8e29-71862d8d54d3"
      },
      "source": [
        "som_shape = (7, 7)\n",
        "som = MiniSom(som_shape[0], som_shape[1], 8097, sigma=.5, learning_rate=.5, neighborhood_function='gaussian', random_seed=10)\n",
        "\n",
        "som.train_batch(data_processing, 50, verbose=True)"
      ],
      "execution_count": null,
      "outputs": [
        {
          "output_type": "stream",
          "text": [
            "\r [  0 / 50 ]   0% - ? it/s\r [  0 / 50 ]   0% - ? it/s\r [  1 / 50 ]   2% - 0:00:00 left \r [  2 / 50 ]   4% - 0:00:00 left \r [  3 / 50 ]   6% - 0:00:00 left \r [  4 / 50 ]   8% - 0:00:00 left \r [  5 / 50 ]  10% - 0:00:00 left \r [  6 / 50 ]  12% - 0:00:00 left \r [  7 / 50 ]  14% - 0:00:00 left \r [  8 / 50 ]  16% - 0:00:00 left \r [  9 / 50 ]  18% - 0:00:00 left \r [ 10 / 50 ]  20% - 0:00:00 left \r [ 11 / 50 ]  22% - 0:00:00 left \r [ 12 / 50 ]  24% - 0:00:00 left \r [ 13 / 50 ]  26% - 0:00:00 left \r [ 14 / 50 ]  28% - 0:00:00 left \r [ 15 / 50 ]  30% - 0:00:00 left \r [ 16 / 50 ]  32% - 0:00:00 left \r [ 17 / 50 ]  34% - 0:00:00 left \r [ 18 / 50 ]  36% - 0:00:00 left \r [ 19 / 50 ]  38% - 0:00:00 left \r [ 20 / 50 ]  40% - 0:00:00 left \r [ 21 / 50 ]  42% - 0:00:00 left \r [ 22 / 50 ]  44% - 0:00:00 left \r [ 23 / 50 ]  46% - 0:00:00 left \r [ 24 / 50 ]  48% - 0:00:00 left \r [ 25 / 50 ]  50% - 0:00:00 left \r [ 26 / 50 ]  52% - 0:00:00 left \r [ 27 / 50 ]  54% - 0:00:00 left \r [ 28 / 50 ]  56% - 0:00:00 left \r [ 29 / 50 ]  58% - 0:00:00 left \r [ 30 / 50 ]  60% - 0:00:00 left \r [ 31 / 50 ]  62% - 0:00:00 left \r [ 32 / 50 ]  64% - 0:00:00 left \r [ 33 / 50 ]  66% - 0:00:00 left \r [ 34 / 50 ]  68% - 0:00:00 left \r [ 35 / 50 ]  70% - 0:00:00 left \r [ 36 / 50 ]  72% - 0:00:00 left \r [ 37 / 50 ]  74% - 0:00:00 left \r [ 38 / 50 ]  76% - 0:00:00 left \r [ 39 / 50 ]  78% - 0:00:00 left \r [ 40 / 50 ]  80% - 0:00:00 left \r [ 41 / 50 ]  82% - 0:00:00 left \r [ 42 / 50 ]  84% - 0:00:00 left \r [ 43 / 50 ]  86% - 0:00:00 left \r [ 44 / 50 ]  88% - 0:00:00 left \r [ 45 / 50 ]  90% - 0:00:00 left \r [ 46 / 50 ]  92% - 0:00:00 left \r [ 47 / 50 ]  94% - 0:00:00 left \r [ 48 / 50 ]  96% - 0:00:00 left \r [ 49 / 50 ]  98% - 0:00:00 left \r [ 50 / 50 ] 100% - 0:00:00 left \n",
            " quantization error: 1.0369802115618354\n"
          ],
          "name": "stdout"
        }
      ]
    },
    {
      "cell_type": "markdown",
      "metadata": {
        "id": "CFk7mmlj57v9",
        "colab_type": "text"
      },
      "source": [
        "Ahora consideraremos toda la muestra mapeada en una neurona específica como un grupo. Para identificar cada grupo más fácilmente, traduciremos los índices bidimensionales de las neuronas en el SOM en índices monodimensionales:"
      ]
    },
    {
      "cell_type": "code",
      "metadata": {
        "id": "tgkJEukA1xLX",
        "colab_type": "code",
        "colab": {}
      },
      "source": [
        "# cada neurona representa un cluster\n",
        "winner_coordinates = np.array([som.winner(x) for x in data_processing]).T\n",
        "# con np.ravel_multi_index convertimos el bidimensional\n",
        "# coordenadas a un índice monodimensional\n",
        "cluster_index = np.ravel_multi_index(winner_coordinates, som_shape)"
      ],
      "execution_count": null,
      "outputs": []
    },
    {
      "cell_type": "markdown",
      "metadata": {
        "id": "lYZiyL5W6C9q",
        "colab_type": "text"
      },
      "source": [
        "Plottear"
      ]
    },
    {
      "cell_type": "code",
      "metadata": {
        "id": "l3iHOZvD1xLZ",
        "colab_type": "code",
        "colab": {
          "base_uri": "https://localhost:8080/",
          "height": 281
        },
        "outputId": "89606016-2778-4b94-c8a2-f9cd3059c92f"
      },
      "source": [
        "# trazar los clusters utilizando las 2 primeras dimensiones de los datos\n",
        "for c in np.unique(cluster_index):\n",
        "    plt.scatter(data_processing[cluster_index == c, 0],\n",
        "                data_processing[cluster_index == c,1], label='cluster='+str(c), alpha=.7)\n",
        "\n",
        "# plottear centroids\n",
        "for centroid in som.get_weights():\n",
        "    plt.scatter(centroid[:, 0], centroid[:, 1], marker='x', s=80, linewidths=35, color='k', label='centroid')\n",
        "plt.legend();"
      ],
      "execution_count": null,
      "outputs": [
        {
          "output_type": "display_data",
          "data": {
            "image/png": "[encoded data removed]",
            "text/plain": [
              "<Figure size 432x288 with 1 Axes>"
            ]
          },
          "metadata": {
            "tags": [],
            "needs_background": "light"
          }
        }
      ]
    },
    {
      "cell_type": "code",
      "metadata": {
        "id": "KQdMynVH1xLc",
        "colab_type": "code",
        "colab": {}
      },
      "source": [
        ""
      ],
      "execution_count": null,
      "outputs": []
    }
  ]
}