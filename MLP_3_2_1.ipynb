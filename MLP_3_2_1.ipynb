{
  "nbformat": 4,
  "nbformat_minor": 0,
  "metadata": {
    "kernelspec": {
      "display_name": "Python 3",
      "language": "python",
      "name": "python3"
    },
    "language_info": {
      "codemirror_mode": {
        "name": "ipython",
        "version": 3
      },
      "file_extension": ".py",
      "mimetype": "text/x-python",
      "name": "python",
      "nbconvert_exporter": "python",
      "pygments_lexer": "ipython3",
      "version": "3.8.2"
    },
    "colab": {
      "name": "MLP_3_2_1.ipynb",
      "provenance": [],
      "collapsed_sections": [],
      "include_colab_link": true
    }
  },
  "cells": [
    {
      "cell_type": "markdown",
      "metadata": {
        "id": "view-in-github",
        "colab_type": "text"
      },
      "source": [
        "<a href=\"https://colab.research.google.com/github/danccas/SPAM-Detector/blob/master/MLP_3_2_1.ipynb\" target=\"_parent\"><img src=\"https://colab.research.google.com/assets/colab-badge.svg\" alt=\"Open In Colab\"/></a>"
      ]
    },
    {
      "cell_type": "markdown",
      "metadata": {
        "id": "GB0-MW-C7rHA",
        "colab_type": "text"
      },
      "source": [
        "**Perceptrón Multicapa**\n",
        "\n",
        " En esta prueba modificaremos nuestro MLP según las capas **3:2:1**,\n",
        " utilizaremos un vector de características para representar un texto.\n",
        "\n",
        "Nuestra finalidad es clasificar automáticamente los textos y determinar su eficiencia en términos de accuracy o exactitud."
      ]
    },
    {
      "cell_type": "markdown",
      "metadata": {
        "id": "5XIrBayn7y-D",
        "colab_type": "text"
      },
      "source": [
        "**Librerias:**\n",
        "\n",
        "Vamos a realizar la importación de librerias necesarias para aplicar nuestro MLP, y procesos como la vectorización y clasificación."
      ]
    },
    {
      "cell_type": "code",
      "metadata": {
        "id": "mBouJSxKefjD",
        "colab_type": "code",
        "colab": {
          "base_uri": "https://localhost:8080/",
          "height": 51
        },
        "outputId": "b23b5130-0870-4f0a-b46d-6a9add371300"
      },
      "source": [
        "import string\n",
        "import numpy as np\n",
        "import pandas as pd\n",
        "import matplotlib.pyplot as plt\n",
        "import seaborn as sns\n",
        "from sklearn.feature_extraction.text import TfidfVectorizer\n",
        "from nltk.corpus import stopwords\n",
        "from nltk import PorterStemmer as Stemmer\n",
        "from sklearn.model_selection import train_test_split\n",
        "from sklearn.neural_network import MLPClassifier\n",
        "from sklearn.metrics import classification_report\n",
        "\n",
        "%matplotlib inline"
      ],
      "execution_count": null,
      "outputs": [
        {
          "output_type": "stream",
          "text": [
            "/usr/local/lib/python3.6/dist-packages/statsmodels/tools/_testing.py:19: FutureWarning: pandas.util.testing is deprecated. Use the functions in the public API at pandas.testing instead.\n",
            "  import pandas.util.testing as tm\n"
          ],
          "name": "stderr"
        }
      ]
    },
    {
      "cell_type": "markdown",
      "metadata": {
        "id": "hYeIH8BMpJam",
        "colab_type": "text"
      },
      "source": [
        "Vamos a instalar nltk, de esta forma realizaremos una limpieza del texto previa a su vertorización."
      ]
    },
    {
      "cell_type": "code",
      "metadata": {
        "id": "b4__U63ipLWk",
        "colab_type": "code",
        "colab": {
          "base_uri": "https://localhost:8080/",
          "height": 68
        },
        "outputId": "994a264a-6b40-4a0d-ff29-d0aaffbc591c"
      },
      "source": [
        "import nltk\n",
        "nltk.download('stopwords')"
      ],
      "execution_count": null,
      "outputs": [
        {
          "output_type": "stream",
          "text": [
            "[nltk_data] Downloading package stopwords to /root/nltk_data...\n",
            "[nltk_data]   Unzipping corpora/stopwords.zip.\n"
          ],
          "name": "stdout"
        },
        {
          "output_type": "execute_result",
          "data": {
            "text/plain": [
              "True"
            ]
          },
          "metadata": {
            "tags": []
          },
          "execution_count": 2
        }
      ]
    },
    {
      "cell_type": "markdown",
      "metadata": {
        "id": "cv18UhYRnLov",
        "colab_type": "text"
      },
      "source": [
        "Vamos a montar nuestro disco Drive, donde tenemos nuestro dataset de spam"
      ]
    },
    {
      "cell_type": "code",
      "metadata": {
        "id": "rzp_TB3inN5N",
        "colab_type": "code",
        "colab": {
          "base_uri": "https://localhost:8080/",
          "height": 122
        },
        "outputId": "20278f2c-be20-4f6f-c302-85f05f9f1fc9"
      },
      "source": [
        "from google.colab import drive\n",
        "drive.mount('/content/gdrive') "
      ],
      "execution_count": null,
      "outputs": [
        {
          "output_type": "stream",
          "text": [
            "Go to this URL in a browser: https://accounts.google.com/o/oauth2/auth?client_id=947318989803-6bn6qk8qdgf4n4g3pfee6491hc0brc4i.apps.googleusercontent.com&redirect_uri=urn%3aietf%3awg%3aoauth%3a2.0%3aoob&response_type=code&scope=email%20https%3a%2f%2fwww.googleapis.com%2fauth%2fdocs.test%20https%3a%2f%2fwww.googleapis.com%2fauth%2fdrive%20https%3a%2f%2fwww.googleapis.com%2fauth%2fdrive.photos.readonly%20https%3a%2f%2fwww.googleapis.com%2fauth%2fpeopleapi.readonly\n",
            "\n",
            "Enter your authorization code:\n",
            "··········\n",
            "Mounted at /content/gdrive\n"
          ],
          "name": "stdout"
        }
      ]
    },
    {
      "cell_type": "markdown",
      "metadata": {
        "id": "coykOSEGnTUs",
        "colab_type": "text"
      },
      "source": [
        "**Dataset:**\n",
        "\n",
        "Hemos usado el dataset de Kaggle, un reconocido repositorio, el cual nos provee 5572 lineas de mensajes etiquetados para su posterior aprendizaje.\n",
        "\n",
        "Link: https://www.kaggle.com/uciml/sms-spam-collection-dataset\n",
        "\n",
        "\n",
        "Importamos el dataset asignando dos columnas:"
      ]
    },
    {
      "cell_type": "code",
      "metadata": {
        "id": "l1hSpgm8efjI",
        "colab_type": "code",
        "colab": {
          "base_uri": "https://localhost:8080/",
          "height": 204
        },
        "outputId": "005e94bd-07f1-43d2-df19-50a2017171e3"
      },
      "source": [
        "read_file  = pd.read_csv('gdrive/My Drive/Colab Notebooks/SOM/datasets_483_982_spam.csv', encoding='latin-1')[['v1', 'v2']]\n",
        "read_file.columns = ['label', 'message']\n",
        "read_file.head()"
      ],
      "execution_count": null,
      "outputs": [
        {
          "output_type": "execute_result",
          "data": {
            "text/html": [
              "<div>\n",
              "<style scoped>\n",
              "    .dataframe tbody tr th:only-of-type {\n",
              "        vertical-align: middle;\n",
              "    }\n",
              "\n",
              "    .dataframe tbody tr th {\n",
              "        vertical-align: top;\n",
              "    }\n",
              "\n",
              "    .dataframe thead th {\n",
              "        text-align: right;\n",
              "    }\n",
              "</style>\n",
              "<table border=\"1\" class=\"dataframe\">\n",
              "  <thead>\n",
              "    <tr style=\"text-align: right;\">\n",
              "      <th></th>\n",
              "      <th>label</th>\n",
              "      <th>message</th>\n",
              "    </tr>\n",
              "  </thead>\n",
              "  <tbody>\n",
              "    <tr>\n",
              "      <th>0</th>\n",
              "      <td>ham</td>\n",
              "      <td>Go until jurong point, crazy.. Available only ...</td>\n",
              "    </tr>\n",
              "    <tr>\n",
              "      <th>1</th>\n",
              "      <td>ham</td>\n",
              "      <td>Ok lar... Joking wif u oni...</td>\n",
              "    </tr>\n",
              "    <tr>\n",
              "      <th>2</th>\n",
              "      <td>spam</td>\n",
              "      <td>Free entry in 2 a wkly comp to win FA Cup fina...</td>\n",
              "    </tr>\n",
              "    <tr>\n",
              "      <th>3</th>\n",
              "      <td>ham</td>\n",
              "      <td>U dun say so early hor... U c already then say...</td>\n",
              "    </tr>\n",
              "    <tr>\n",
              "      <th>4</th>\n",
              "      <td>ham</td>\n",
              "      <td>Nah I don't think he goes to usf, he lives aro...</td>\n",
              "    </tr>\n",
              "  </tbody>\n",
              "</table>\n",
              "</div>"
            ],
            "text/plain": [
              "  label                                            message\n",
              "0   ham  Go until jurong point, crazy.. Available only ...\n",
              "1   ham                      Ok lar... Joking wif u oni...\n",
              "2  spam  Free entry in 2 a wkly comp to win FA Cup fina...\n",
              "3   ham  U dun say so early hor... U c already then say...\n",
              "4   ham  Nah I don't think he goes to usf, he lives aro..."
            ]
          },
          "metadata": {
            "tags": []
          },
          "execution_count": 4
        }
      ]
    },
    {
      "cell_type": "markdown",
      "metadata": {
        "id": "Ha4-xalBefjM",
        "colab_type": "text"
      },
      "source": [
        "Devuelve una tupla que representa la dimensionalidad del DataFrame"
      ]
    },
    {
      "cell_type": "code",
      "metadata": {
        "id": "ro_dDVCVefjN",
        "colab_type": "code",
        "colab": {
          "base_uri": "https://localhost:8080/",
          "height": 34
        },
        "outputId": "d8ca5aa9-91e6-4573-9c4b-3f63c22437ba"
      },
      "source": [
        "read_file.shape"
      ],
      "execution_count": null,
      "outputs": [
        {
          "output_type": "execute_result",
          "data": {
            "text/plain": [
              "(5572, 2)"
            ]
          },
          "metadata": {
            "tags": []
          },
          "execution_count": 5
        }
      ]
    },
    {
      "cell_type": "markdown",
      "metadata": {
        "id": "WdywS8yYoPP4",
        "colab_type": "text"
      },
      "source": [
        "Vamos a realizar un agrupamiento por la etiqueta"
      ]
    },
    {
      "cell_type": "code",
      "metadata": {
        "id": "3qJnh7PkefjQ",
        "colab_type": "code",
        "colab": {
          "base_uri": "https://localhost:8080/",
          "height": 173
        },
        "outputId": "3600ca48-a038-4a3e-f43b-11c2890eac1c"
      },
      "source": [
        "read_file.groupby('label').describe()"
      ],
      "execution_count": null,
      "outputs": [
        {
          "output_type": "execute_result",
          "data": {
            "text/html": [
              "<div>\n",
              "<style scoped>\n",
              "    .dataframe tbody tr th:only-of-type {\n",
              "        vertical-align: middle;\n",
              "    }\n",
              "\n",
              "    .dataframe tbody tr th {\n",
              "        vertical-align: top;\n",
              "    }\n",
              "\n",
              "    .dataframe thead tr th {\n",
              "        text-align: left;\n",
              "    }\n",
              "\n",
              "    .dataframe thead tr:last-of-type th {\n",
              "        text-align: right;\n",
              "    }\n",
              "</style>\n",
              "<table border=\"1\" class=\"dataframe\">\n",
              "  <thead>\n",
              "    <tr>\n",
              "      <th></th>\n",
              "      <th colspan=\"4\" halign=\"left\">message</th>\n",
              "    </tr>\n",
              "    <tr>\n",
              "      <th></th>\n",
              "      <th>count</th>\n",
              "      <th>unique</th>\n",
              "      <th>top</th>\n",
              "      <th>freq</th>\n",
              "    </tr>\n",
              "    <tr>\n",
              "      <th>label</th>\n",
              "      <th></th>\n",
              "      <th></th>\n",
              "      <th></th>\n",
              "      <th></th>\n",
              "    </tr>\n",
              "  </thead>\n",
              "  <tbody>\n",
              "    <tr>\n",
              "      <th>ham</th>\n",
              "      <td>4825</td>\n",
              "      <td>4516</td>\n",
              "      <td>Sorry, I'll call later</td>\n",
              "      <td>30</td>\n",
              "    </tr>\n",
              "    <tr>\n",
              "      <th>spam</th>\n",
              "      <td>747</td>\n",
              "      <td>653</td>\n",
              "      <td>Please call our customer service representativ...</td>\n",
              "      <td>4</td>\n",
              "    </tr>\n",
              "  </tbody>\n",
              "</table>\n",
              "</div>"
            ],
            "text/plain": [
              "      message                                                               \n",
              "        count unique                                                top freq\n",
              "label                                                                       \n",
              "ham      4825   4516                             Sorry, I'll call later   30\n",
              "spam      747    653  Please call our customer service representativ...    4"
            ]
          },
          "metadata": {
            "tags": []
          },
          "execution_count": 6
        }
      ]
    },
    {
      "cell_type": "markdown",
      "metadata": {
        "id": "Lmb2FUWeoWiG",
        "colab_type": "text"
      },
      "source": [
        "Realziaremos una grafica del agrupamiento binario ham/spam"
      ]
    },
    {
      "cell_type": "code",
      "metadata": {
        "id": "vBXmYkh4efjT",
        "colab_type": "code",
        "colab": {
          "base_uri": "https://localhost:8080/",
          "height": 297
        },
        "outputId": "d9a71713-2e69-4bf7-a13e-8ab6e0df70d2"
      },
      "source": [
        "sns.countplot(data=read_file, x='label') "
      ],
      "execution_count": null,
      "outputs": [
        {
          "output_type": "execute_result",
          "data": {
            "text/plain": [
              "<matplotlib.axes._subplots.AxesSubplot at 0x7fbc2f275e10>"
            ]
          },
          "metadata": {
            "tags": []
          },
          "execution_count": 7
        },
        {
          "output_type": "display_data",
          "data": {
            "image/png": "[encoded data removed]",
            "text/plain": [
              "<Figure size 432x288 with 1 Axes>"
            ]
          },
          "metadata": {
            "tags": [],
            "needs_background": "light"
          }
        }
      ]
    },
    {
      "cell_type": "markdown",
      "metadata": {
        "id": "HfC6RI-cefjX",
        "colab_type": "text"
      },
      "source": [
        "**Procesamiento de Texto:**\n",
        "\n",
        "Limpiar y normalizar texto, se realiza los siguientes pasos:\n",
        "\n",
        "1.   Eliminar signos de puntuación\n",
        "2.   Eliminar todas las palabras vacías\n",
        "3.   Aplicar derivación (conversión a forma normal de palabra). Por ejemplo, 'conduciendo automóvil' y 'conduces automóvil' se convierte en conducir automóvil\n"
      ]
    },
    {
      "cell_type": "code",
      "metadata": {
        "id": "J7Zp-EVdefjY",
        "colab_type": "code",
        "colab": {
          "base_uri": "https://localhost:8080/",
          "height": 34
        },
        "outputId": "a54ae067-12dd-48e3-e202-bafadc577c0e"
      },
      "source": [
        "def text_processing(text_):\n",
        "    text_ = text_.lower()\n",
        "    text_ = ''.join([i for i in text_ if i not in string.punctuation])\n",
        "    text_ = [i for i in text_.split() if i not in stopwords.words('english')]\n",
        "    string_ = Stemmer()\n",
        "    text_ = [string_.stem(i) for i in text_]\n",
        "    return text_ \n",
        "\n",
        "text_processing('driving car')"
      ],
      "execution_count": null,
      "outputs": [
        {
          "output_type": "execute_result",
          "data": {
            "text/plain": [
              "['drive', 'car']"
            ]
          },
          "metadata": {
            "tags": []
          },
          "execution_count": 8
        }
      ]
    },
    {
      "cell_type": "markdown",
      "metadata": {
        "id": "sSvz4uvKefjb",
        "colab_type": "text"
      },
      "source": [
        "Utilizaremos TfidfVectorizer. Convertirá la colección de documentos de texto (corpus de SMS) en una matriz 2D. Una dimensión representa documentos y otra dimensión repite cada palabra única en el corpus de SMS..."
      ]
    },
    {
      "cell_type": "code",
      "metadata": {
        "id": "KpMI5kP5efjb",
        "colab_type": "code",
        "colab": {}
      },
      "source": [
        "tfidfv = TfidfVectorizer(analyzer=text_processing)  # Tfid\n",
        "data_processing = tfidfv.fit_transform(read_file['message'])\n",
        "type(data_processing)\n",
        "data_processing = data_processing.toarray()  # convertirmos la matriz a un array para el modelo"
      ],
      "execution_count": null,
      "outputs": []
    },
    {
      "cell_type": "code",
      "metadata": {
        "id": "DnjJI5O4efjf",
        "colab_type": "code",
        "colab": {
          "base_uri": "https://localhost:8080/",
          "height": 34
        },
        "outputId": "71110a49-4097-4465-ca87-faaf236f8578"
      },
      "source": [
        "data_processing.shape  # comprobar la forma de la matriz"
      ],
      "execution_count": null,
      "outputs": [
        {
          "output_type": "execute_result",
          "data": {
            "text/plain": [
              "(5572, 8097)"
            ]
          },
          "metadata": {
            "tags": []
          },
          "execution_count": 10
        }
      ]
    },
    {
      "cell_type": "code",
      "metadata": {
        "id": "RVg7Zypdefji",
        "colab_type": "code",
        "colab": {}
      },
      "source": [
        "labels =  read_file['label']  # almacena etiquetas en otra variable para que podamos usarlo para entrenamiento"
      ],
      "execution_count": null,
      "outputs": []
    },
    {
      "cell_type": "markdown",
      "metadata": {
        "id": "z6AEYaYjefjl",
        "colab_type": "text"
      },
      "source": [
        "**Aprendizaje y Predicción:**\n",
        "\n",
        "1. El algoritmo escogido para la solución es un optimizador estocástico basado en gradiente propuesto por Kingma, Diederik y Jimmy Ba.\n",
        "2. La función de activación de la capa oculpa escogida es la función tan hiperbólica, devuelve f (x) = tanh (x)\n"
      ]
    },
    {
      "cell_type": "code",
      "metadata": {
        "id": "crCQS_mEefjl",
        "colab_type": "code",
        "colab": {}
      },
      "source": [
        "X_train, X_test, y_train, y_test = train_test_split(data_processing, labels, stratify=labels)\n",
        "model = MLPClassifier(solver='adam', activation='tanh', alpha=1e-5, hidden_layer_sizes=(3, 2, 1), random_state=1, max_iter=500)\n",
        "model = model.fit(X_train, y_train)  # Entrenar"
      ],
      "execution_count": null,
      "outputs": []
    },
    {
      "cell_type": "code",
      "metadata": {
        "id": "BQGQihdzefjo",
        "colab_type": "code",
        "colab": {}
      },
      "source": [
        "predicted = model.predict(X_test)  # Predecir "
      ],
      "execution_count": null,
      "outputs": []
    },
    {
      "cell_type": "code",
      "metadata": {
        "id": "wg_ZTyuoefjr",
        "colab_type": "code",
        "colab": {
          "base_uri": "https://localhost:8080/",
          "height": 170
        },
        "outputId": "d154a5b0-08a3-41d5-90b1-d28f0d82953e"
      },
      "source": [
        "print(classification_report(y_test, predicted))"
      ],
      "execution_count": null,
      "outputs": [
        {
          "output_type": "stream",
          "text": [
            "              precision    recall  f1-score   support\n",
            "\n",
            "         ham       0.98      1.00      0.99      1206\n",
            "        spam       0.98      0.88      0.93       187\n",
            "\n",
            "    accuracy                           0.98      1393\n",
            "   macro avg       0.98      0.94      0.96      1393\n",
            "weighted avg       0.98      0.98      0.98      1393\n",
            "\n"
          ],
          "name": "stdout"
        }
      ]
    },
    {
      "cell_type": "markdown",
      "metadata": {
        "id": "yriPv-Go9vVH",
        "colab_type": "text"
      },
      "source": [
        "**Conclusión:**\n",
        "\n",
        "*MLP 2:2:1*: Se tiene una precisión del 99% en la predicción del ham, así como 96% para spam. Teniendo una precisión total de 97%.\n",
        "\n",
        "*MLP 3:2:1*: Se tiene una precisión del 98% en la predicción del ham, así como 98% para spam. Teniendo una precisión total de 98%.\n",
        "\n",
        "*MLP 3:3:1*: Se tiene una precisión del 99% en la predicción del ham, así como 97% para spam. Teniendo una precisión total de 98%.\n",
        "\n",
        "**Se concluye que los MLP 3:2:1 y 3:3:1 tienen una mayor precisión en la predicción de spam y ham.**"
      ]
    }
  ]
}